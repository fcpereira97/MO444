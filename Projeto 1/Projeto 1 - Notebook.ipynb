{
 "cells": [
  {
   "cell_type": "markdown",
   "id": "american-liberia",
   "metadata": {},
   "source": [
    "# <center>MO444 - Aprendizado de Máquina e Reconhecimento de Padrões</center>\n",
    "## <center>Primeiro semestre de 2021</center>\n",
    "## <center>Projeto 1: Aprendizado não supervisionado</center>\n",
    "## <center>Discentes: Elisa Dell Arriva (135551) e Felipe de Carvalho Pereira (230214)</center>\n",
    "_________________________________________________________________________\n",
    "\n",
    "# 1 Introdução\n",
    "\n",
    "O presente *notebook* consiste no primeiro projeto avaliativo da disciplina MO444 - Aprendizado de Máquina e Reconhecimento de Padrões, ministrada pela Profa. Dra. Esther Colombini. O principal objetivo da atividade foi o de implementar e experimentar métodos de aprendizado não supervisionado e de redução de dimensionalidade para resolver problemas de *clusterização* de dados.<br>\n",
    "\n",
    "Na primeira parte do projeto, implementamos os algoritmos de clusterização K-means e DBSCAN e aplicamos ambos os métodos em dois *datasets* com diferentes dimensões. Na segunda etapa, utilizamos a técnica de redução de dimensionalidade denominada PCA sobre o *dataset* de maior dimensão e, em seguida, executamos o K-means. Em ambas as etapas, seguimos a especificação do projeto acerca da condução dos experimentos e da avaliação dos resultados.\n",
    "\n",
    "\n",
    "# 2 *Datasets*\n",
    "\n",
    "O primeiro *dataset*, ao qual nos referiremos como 2D-dataset, foi fornecido junto com a especificação do projeto e contém 573 *samples* e apenas duas *features* do tipo número real.<br>\n",
    "\n",
    "O segundo *dataset*, ao qual nos referiremos com Tripadvisor, foi obtido por meio do UCI Machine Learning Repository (disponível em https://archive.ics.uci.edu/ml/datasets/Travel+Reviews). Este *dataset* foi produzido por meio da coleta de avaliações no site tripadvisor.com sobre destinos de viagens (*resorts*, restaurantes, praias, etc.). Cada avaliação do viajante foi mapeada como Excelente (4), Muito boa (3), Média (2), Ruim (1) e Péssimo (0). Para cada um dos 980 usuários, o *dataset* apresenta a avaliação média desse usuário sobre 10 diferentes categorias de destino, quais são:\n",
    "- Avaliação média do usuário sobre galerias de arte\n",
    "- Avaliação média do usuário sobre clubes de dança\n",
    "- Avaliação média do usuário sobre bares de suco\n",
    "- Avaliação média do usuário sobre restaurantes\n",
    "- Avaliação média do usuário sobre museus\n",
    "- Avaliação média do usuário sobre *resorts*\n",
    "- Avaliação média do usuário sobre parques e locais para piquenique\n",
    "- Avaliação média do usuário sobre praias\n",
    "- Avaliação média do usuário sobre cinemas\n",
    "- Avaliação média do usuário sobre instituições religiosas\n",
    "\n",
    "Ou seja, o Tripadvisor contém 980 *samples* com 10 *features* do tipo número real. Ao clusterizar os *samples* do *dataset* Tripadvisor, resolvemos o problema de agrupar os usuários de acordo com as avaliações médias destes sobre as 10 categorias descritas.\n",
    "\n",
    "\n",
    "# 3 Algoritmos\n",
    "\n",
    "A seguir, apresentamos os algoritmos de clusterização não supervisionados utilizados neste trabalho: K-means e DBSCAN.\n",
    "\n",
    "## 3.1 K-means\n",
    "\n",
    "O método K-means pode ser descrito da seguinte maneira. Suponha que tenhamos um *dataset* $d$-dimensional de $n$ *samples* e que desejamos clusterizar os $n$ samples em $k$ *clusters*. Ao longo da execução do algoritmo, manteremos $k$ pontos no espaço $d$-dimensional denominados *centroides*. Como veremos mais à frente, cada centroide determinará um dos $k$ *clusters*. Para estabelecer as coordenadas inicias de cada centroide pode-se escolher, por exemplo, coordenadas aleatórias no espaço $d$-dimensional ou coordenadas iguais às coordenadas de algum *sample* escolhido aleatoriamente.\n",
    "\n",
    "Em seguida, para cada *sample* $s$, calcula-se a distância (que pode ser a euclidiana) entre $s$ e cada um dos $k$ centroides e, após isso, designa-se $s$ ao centroide que minimiza a distância. Posteriormente, para cada cenroide $c$, atualizamos os valores de todas as suas coordenadas, de modo que o valor de sua $i$-ésima coordenada passa a ser a média dos valores da $i$-ésima coordenada de cada *sample* designado ao centroide $c$. O procedimento descrito neste parágrafo é repetido até que não ocorra alteração nas coordenadas de todos os centroides.\n",
    "\n",
    "Finalmente, todos os *samples* que foram designados a um mesmo centroide compõem um *cluster*. Como existem $k$ centroides, espera-se que existam exatamente $k$ *clusters* não vazios.\n",
    "\n",
    "## 3.2 BDSCAN\n",
    "\n",
    "O DBSCAN (*Density-Based Spatial Clustering of Applications with Noise*) é um algoritmo de aprendizado não-supervisionado da classe dos algoritmos baseados em desidade. Ele consegue identificar *clusters* de formatos arbitrários e, além disso, é capaz de detectar pontos que caracterizam ruído. Para explicar o funcionamento do DBSCAN, precisamos de algumas definições. Para o escopo dessa subseção, chamamos uma *sample* de *nó*. O DBSCAN requer dois parâmetros. O primeiro deles representa um raio de distância, que aqui chamamos de *epsilon*. A *vizinhança* de um nó $x$ é definida como o conjunto dos nós que estão a no máximo uma distância *epsilon* de $x$. \n",
    "O segundo parâmetro, que aqui chamamos de *densidade*, determina o número mínimo de pontos que um *cluster* deve ter. Além disso, um nó é classificado como um dentre três tipos, descritos a seguir:\n",
    "- **core**: se o tamanho de sua vizinhança é maior que o valor do parâmetro densidade;\n",
    "- **border**: se ele não é core mas tem pelo menos um core em sua vizinhança;\n",
    "- **noise**: se ele não é border nem core.\n",
    "\n",
    "Dados um *dataset* e valores de *epsilon* e de densidade, o algoritmo funciona da seguinte maneira. Todos os nós começam marcados como \"indefinidos\". O algoritmo visita cada nó e, se o nó ainda não foi visitado, ou seja, ainda está marcado como \"indefinido\", então ele é processado. Seja $x$ um nó que será processado. O algoritmo primeiramente encontra a vizinhança de $x$; se o tamanho de $x$ é maior que a densidade, então $x$ é classificado como *core* e aí inicia-se um novo cluster formado, a princípio, por $x$ e sua vizinhança. Para expandir o cluster, o algoritmo analisa cada vizinho $y$ de $x$. Se a vizinhança de $y$ é maior que a densidade, então $y$ é classificado como *core* e sua vizinhança também deve ser analisada; se, por outro lado, a vizinhança de $y$ é menor que a densidade, então $y$ é classificado como *border* e sua vizinhança não é analisada. \n",
    "Agora, no caso em que a vizinhança de $x$ é menor que a densidade, então $x$ não inicia um novo *cluster* e é marcado como *noise* para que ele possa, possivelmente, ser abarcado por algum outro *cluster*.\n",
    "Sejam **DS** um *dataset*, **EPS** o parâmetro de distância e **D** o parâmetro de densidade. A seguir, mostramos um pseudo-código do algoritmo que implmentamos.\n",
    "\n",
    "    DBSCAN(DS, EPS, D): \n",
    "    para cada NO em DS:\n",
    "        se NO não foi visitado:\n",
    "            encontre a vizinhança V de NO\n",
    "            se o tamanho de V é maior que D:\n",
    "                classifique NO como core\n",
    "                inicie um cluster C a partir de NO\n",
    "            senão:\n",
    "                classifique NO como noise\n",
    "\n",
    "Ao final da execução do algoritmo, temos cada nó associado a um *cluster* ou ao rótulo *noise*. Dessa forma, conseguimos definir quais são os *clusters* e quais são os ruídos. \n",
    "\n",
    "\n",
    "# 4 Código-fonte\n",
    "\n",
    "As células a seguir contêm as implementações desenvolvidas pela dupla, incluindo os algoritmos K-means e DBSCAN."
   ]
  },
  {
   "cell_type": "markdown",
   "id": "infectious-placement",
   "metadata": {},
   "source": [
    "## 4.1 Importação de módulos"
   ]
  },
  {
   "cell_type": "code",
   "execution_count": 2,
   "id": "understood-option",
   "metadata": {},
   "outputs": [],
   "source": [
    "# Modules import\n",
    "import random\n",
    "import math\n",
    "import statistics\n",
    "import numpy as np\n",
    "import matplotlib.pyplot as plt\n",
    "from collections import deque, namedtuple\n",
    "import queue"
   ]
  },
  {
   "cell_type": "markdown",
   "id": "respected-litigation",
   "metadata": {},
   "source": [
    "## 4.2 Classes "
   ]
  },
  {
   "cell_type": "code",
   "execution_count": 3,
   "id": "smoking-joshua",
   "metadata": {},
   "outputs": [],
   "source": [
    "#######################################################################################################\n",
    "#Class that represents a sample\n",
    "class Sample:\n",
    "    def __init__(self, identifier, features):\n",
    "        self.identifier = identifier #Number that identifies the sample\n",
    "        self.features = features #Array of feature values of the sample\n",
    "        self.cluster = None #Reference to the object cluster that the sample was assigned\n",
    "        self.silhouette_a = None #Metric used to calculate the silhouette coefficient\n",
    "        self.silhouette_b = None #Metric used to calculate the silhouette coefficient\n",
    "        self.silhouette_score = None #Silhouette coefficient of the sample\n",
    "\n",
    "        \n",
    "#######################################################################################################\n",
    "#Class that represents a centroid\n",
    "class Centroid:\n",
    "    def __init__(self, identifier, features):\n",
    "        self.identifier = identifier #Number that identifies the centroid\n",
    "        self.features = features #Array of feature values of the centroid\n",
    "        self.list_of_samples = [] #Array containing all the samples that are assigned to this centroid\n",
    "        \n",
    "        \n",
    "#######################################################################################################\n",
    "#Class that represents a cluster\n",
    "class Cluster:\n",
    "    def __init__(self, identifier, list_of_samples):\n",
    "        self.identifier = identifier #Number that identifies the cluster\n",
    "        self.list_of_samples = list_of_samples #Array containing all the samples that are assigned to this cluster\n",
    "        \n",
    "        \n",
    "#######################################################################################################\n",
    "#Class that represents a node for the DBSCAN method\n",
    "class DBSCAN_node:\n",
    "    def __init__(self, sample, label, cluster):\n",
    "        self.sample = sample \n",
    "        self.label = label   # (undefined | noise | core | border)\n",
    "        self.cluster = cluster # name of the cluster the node belongs to\n",
    "        self.neighborhood = set()\n",
    "\n",
    "######################################################################################################## Class of colors to use with the print funtion\n",
    "class color:\n",
    "   PURPLE = '\\033[95m'\n",
    "   CYAN = '\\033[96m'\n",
    "   DARKCYAN = '\\033[36m'\n",
    "   BLUE = '\\033[94m'\n",
    "   GREEN = '\\033[92m'\n",
    "   YELLOW = '\\033[93m'\n",
    "   RED = '\\033[91m'\n",
    "   BOLD = '\\033[1m'\n",
    "   UNDERLINE = '\\033[4m'\n",
    "   END = '\\033[0m'"
   ]
  },
  {
   "cell_type": "markdown",
   "id": "removable-amazon",
   "metadata": {},
   "source": [
    "## 4.3 Leitura do dataset, normalizações, métricas de avaliação e geração de gráficos"
   ]
  },
  {
   "cell_type": "code",
   "execution_count": 4,
   "id": "antique-cartridge",
   "metadata": {},
   "outputs": [],
   "source": [
    "#######################################################################################################\n",
    "# Function that reads the dataset from input file\n",
    "def get_dataset(filename):\n",
    "    dataset_file = open(filename,\"r\") #Get the input file\n",
    "    dataset_file_lines = dataset_file.readlines() #Read all the lines of the input file\n",
    "    dataset = [] #Array that will contain all samples objects\n",
    "    \n",
    "    for i in range(len(dataset_file_lines)): #For each line of the input file\n",
    "        dataset_file_lines[i] = dataset_file_lines[i].split() #Split the line at the spaces\n",
    "        features = list(map(float, dataset_file_lines[i])) #Get the features values list in float format\n",
    "        new_sample = Sample(i+1, features) #Create new Sample object\n",
    "        dataset.append(new_sample) #Append the new sample to the dataset\n",
    "        \n",
    "    return dataset\n",
    "\n",
    "            \n",
    "#######################################################################################################\n",
    "# Function that divides the dataset into training and test sets\n",
    "def divide_dataset(dataset, training_set_proportion, test_set_proportion):\n",
    "\n",
    "    training_set_size = math.floor(training_set_proportion*len(dataset)) #Get the size of the training set\n",
    "    #test_set_size = math.ceil(test_set_proportion*len(dataset)) #Get the size of the test set\n",
    "    training_set = [] #Traning set array\n",
    "    test_set = [] #Test set array\n",
    "\n",
    "    for i in range(len(dataset)): #Partition the dataset into traning and test sets\n",
    "        if i < training_set_size:\n",
    "            training_set.append(dataset[i])\n",
    "        else:\n",
    "            test_set.append(dataset[i])\n",
    "    return training_set, test_set\n",
    "\n",
    "            \n",
    "#######################################################################################################\n",
    "# Function that calculates the euclidean distance between two samples\n",
    "def get_distance(sample1, sample2, n_dimensions):\n",
    "    sum = 0\n",
    "    for i in range(n_dimensions):\n",
    "        sum = sum + (sample1.features[i] - sample2.features[i])**2\n",
    "    return math.sqrt(sum)\n",
    "\n",
    "            \n",
    "#######################################################################################################\n",
    "# Function that applies the z-score method of normalization and standardization\n",
    "def z_score_normalization(dataset, n_dimensions):\n",
    "    for i in range(n_dimensions): #For each dimension i\n",
    "        feature_values = [] #Create a list of all feature values of the i-th dimension\n",
    "        for sample in dataset: #Fill the list\n",
    "            feature_values.append(sample.features[i])\n",
    "        feature_average = statistics.mean(feature_values) #Get the average value\n",
    "        feature_stdev = statistics.stdev(feature_values) #Get the standard deviation value\n",
    "        for sample in dataset: #For each sample, adjust its feature value of the i-th dimension\n",
    "            sample.features[i] = (sample.features[i] - feature_average)/(feature_stdev) \n",
    "            \n",
    "            \n",
    "#######################################################################################################            \n",
    "# Function that applies the min-max method of normalization\n",
    "def min_max_normalization(dataset, n_dimensions):\n",
    "    for i in range(n_dimensions): #For each dimension i\n",
    "        max_value = -math.inf #Maximum value between the feature values of the i-th dimension\n",
    "        min_value = math.inf #Minimum value between the feature values of the i-th dimension\n",
    "        for sample in dataset: #Calculate max_value and min_value\n",
    "            if sample.features[i] > max_value:\n",
    "                max_value = sample.features[i]\n",
    "            if sample.features[i] < min_value:\n",
    "                min_value = sample.features[i]\n",
    "        for sample in dataset: #For each sample, adjust its feature value of the i-th dimension\n",
    "            sample.features[i] = (sample.features[i] - min_value)/(max_value - min_value)\n",
    "            \n",
    "            \n",
    "#######################################################################################################            \n",
    "#Function that plots the elbow graph with repetitions for a each value of k in a given range (Exclusive for K-means)\n",
    "def plot_elbow_graph(dataset, n_dimensions, min_k, max_k, n_repetitions, title_str):\n",
    "    \n",
    "    elbow_points = [] #Points of the elbow graph\n",
    "    for k in range (min_k, max_k + 1): #For each value of k between min_k and max_k\n",
    "        average = 0 #Variable that will contain the SSE average value \n",
    "        for j in range(n_repetitions): #Execute k-means n_repetitions times with same value of k\n",
    "            clusters, centroids, sse = kmeans(dataset, k, n_dimensions) #Run the k-means algorithm\n",
    "            average += sse\n",
    "        average = float(average)/n_repetitions \n",
    "        elbow_points.append([k,average]) #Add the point (k, SSE average value)\n",
    "\n",
    "    #Plot the graph\n",
    "    x = []\n",
    "    y = []\n",
    "    for point in elbow_points:\n",
    "        x.append(point[0])\n",
    "        y.append(point[1])\n",
    "\n",
    "    plt.xlabel(\"k\")\n",
    "    plt.ylabel(\"Média da SSE com \" + str(n_repetitions) + \" repetições\")\n",
    "    plt.title(title_str)\n",
    "    plt.xticks(list(range(min_k,max_k + 1)))    \n",
    "    plt.grid(linestyle='--')\n",
    "    plt.plot(x,y,'o-')\n",
    "    plt.show()\n",
    "    plt.close()\n",
    "    \n",
    "    \n",
    "#######################################################################################################            \n",
    "# Fuction that calculates the silhouette score of a clusterization\n",
    "def calculate_silhouette_score(clusters, n_dimensions):\n",
    "    \n",
    "    #This loop calculates the \"a-score\" of each sample\n",
    "    for cluster in clusters:    #For each cluster C\n",
    "        for sample in cluster.list_of_samples: #For each sample s in C\n",
    "            sample.silhouette_a = 0 #Attribute that contains the \"a-score\" of s\n",
    "            for sample_in_same_cluster in cluster.list_of_samples: #For each sample s' in C\n",
    "                if(not(sample.identifier == sample_in_same_cluster.identifier)): #If s != s'\n",
    "                    sample.silhouette_a += get_distance(sample, sample_in_same_cluster, n_dimensions) #Get the distance between s and s'\n",
    "            if(len(cluster.list_of_samples) > 1): #If |C| > 1, then calculates the \"a-score\" of s\n",
    "                sample.silhouette_a = float(sample.silhouette_a)/(len(cluster.list_of_samples)-1)\n",
    "    \n",
    "    #This loop calculates the \"b-score\" of each sample    \n",
    "    for cluster in clusters: #For each cluster C\n",
    "        for sample in cluster.list_of_samples: #For each sample s in C\n",
    "            min_b = math.inf #Variable that contains the minimum possible \"b-score\" of s\n",
    "            for other_cluster in clusters: #For each cluster C'\n",
    "                if(not(other_cluster.identifier == cluster.identifier)): #If C != C'\n",
    "                    current_b = 0 #Variable that contains \"b-score\" of s for C'\n",
    "                    for sample_in_other_cluster in other_cluster.list_of_samples: #For each sample s' in C'\n",
    "                        current_b += get_distance(sample, sample_in_other_cluster, n_dimensions) #Get the distance between s and s'\n",
    "                    current_b = float(current_b)/len(other_cluster.list_of_samples) #Calculates the \"b-score\" of s related to C'\n",
    "                    min_b = min(min_b, current_b) #Update the min_b, if it is the case\n",
    "            sample.silhouette_b = min_b #Attribute that contains the \"b-score\" of s\n",
    "            \n",
    "    silhouette_sample_scores = [] #Array that will contain the score of each sample\n",
    "    for cluster in clusters: #For each cluster C\n",
    "        for sample in cluster.list_of_samples: #For each sample s in C\n",
    "            sample.silhouette_score = (sample.silhouette_b - sample.silhouette_a)/max(sample.silhouette_a,sample.silhouette_b) #Calculates the score of s\n",
    "            silhouette_sample_scores.append(sample.silhouette_score) #Add the score of s to the array of scores\n",
    "\n",
    "    silhouette_score = statistics.mean(silhouette_sample_scores) #Calculate the final score of the clusterization, that is the average of all sample scores\n",
    "    \n",
    "    return silhouette_score      \n",
    "            \n",
    "#######################################################################################################\n",
    "# Function that plots the average silhouette score for each k in a given range (Exclusive for K-means)\n",
    "def plot_silhouette_avg_score_graph(dataset, n_dimensions, min_k, max_k, n_repetitions, title_str):\n",
    "    \n",
    "    points = [] #Points of the graph\n",
    "    for k in range(min_k, max_k + 1): #For each value of k between min_k and max_k\n",
    "        average = 0 #Variable that will contain the silhouette average value for the fixed k\n",
    "        for i in range(n_repetitions): #Execute k-means n_repetitions times with same value of k\n",
    "            clusters, centroids, sse = kmeans(dataset, k, n_dimensions) #Run the k-means algorithm\n",
    "            silhouette_score = calculate_silhouette_score(clusters, n_dimensions) #Get the silhouette score of the clusterization\n",
    "            average += silhouette_score\n",
    "        average = float(average)/n_repetitions #Calculates the average score\n",
    "        points.append([k,average]) #Add the point (k, silhouette average value)\n",
    "    \n",
    "    #Plot the graph\n",
    "    x = []\n",
    "    y = []\n",
    "    for point in points:\n",
    "        x.append(point[0])\n",
    "        y.append(point[1])\n",
    "\n",
    "    plt.xlabel(\"k\")\n",
    "    plt.ylabel(\"Média do silhouette score com \" + str(n_repetitions) + \" repetições\")\n",
    "    plt.xticks(list(range(min_k,max_k + 1)))\n",
    "    plt.title(title_str)\n",
    "    plt.grid(linestyle='--')\n",
    "    plt.plot(x,y,'o-', color='green')\n",
    "    plt.show()\n",
    "    plt.close()\n",
    "    \n",
    "            \n",
    "#######################################################################################################\n",
    "# Function that plots the silhouette graph of a given clusterization\n",
    "def plot_silhouette_graph(dataset, clusters, n_dimensions, k, title_str):\n",
    "    \n",
    "    #Calculate the silhouete score\n",
    "    silhouette_score = calculate_silhouette_score(clusters, n_dimensions)\n",
    "    \n",
    "    #The following code plots the silhouette graph and it was adapted from \n",
    "    #https://medium.com/neuronio/unsupervised-learning-with-k-means-3eaa0666eebf\n",
    "    \n",
    "    silhouette_sample_scores = [] #Array that will contain the score of each sample\n",
    "    for sample in dataset:\n",
    "        silhouette_sample_scores.append(sample.silhouette_score) #Add the score of s to the array of scores\n",
    "    min_silhouette_value = min(-0.1,min(silhouette_sample_scores))\n",
    "    fig, (ax1) = plt.subplots(1)\n",
    "    # The 1st subplot is the silhouette plot\n",
    "    ax1.set_xlim([min_silhouette_value, 1])\n",
    "    # The (n_clusters+1)*10 is for inserting blank space between silhouette\n",
    "    # plots of individual clusters, to demarcate them clearly.\n",
    "    ax1.set_ylim([0, len(dataset) + (k + 1) * 10])\n",
    "    # Compute the silhouette scores for each sample\n",
    "    y_lower = 10\n",
    "    for i,cluster in enumerate(clusters):\n",
    "        # Aggregate the silhouette scores for samples belonging to cluster i, and sort them\n",
    "        ith_cluster_silhouette_values = []\n",
    "        for sample in cluster.list_of_samples:\n",
    "            ith_cluster_silhouette_values.append(sample.silhouette_score)\n",
    "        ith_cluster_silhouette_values.sort()\n",
    "        size_cluster_i = len(ith_cluster_silhouette_values)\n",
    "        y_upper = y_lower + size_cluster_i\n",
    "        #color = plt.cm.nipy_spectral(float(i) / k)\n",
    "        ax1.fill_betweenx(np.arange(y_lower, y_upper), 0, ith_cluster_silhouette_values,alpha=0.7)\n",
    "        # Label the silhouette plots with their cluster numbers at the middle\n",
    "        ax1.text(-0.05, y_lower + 0.5 * size_cluster_i, str(i+1))\n",
    "        # Compute the new y_lower for next plot\n",
    "        y_lower = y_upper + 10  # 10 for the 0 samples\n",
    "    ax1.set_xlabel(\"Silhouette coefficient\")\n",
    "    ax1.set_ylabel(\"Rótulo do cluster\")\n",
    "    # The vertical line for average silhouette score of all the values\n",
    "    ax1.axvline(x=silhouette_score, color=\"red\", linestyle=\"--\")\n",
    "    ax1.set_yticks([])  # Clear the yaxis labels / ticks\n",
    "    x_ticks = []\n",
    "    j = 1\n",
    "    while j > min_silhouette_value:\n",
    "        x_ticks.append(j)\n",
    "        j = j - 0.1\n",
    "    x_ticks.append(min_silhouette_value)\n",
    "    ax1.set_xticks(x_ticks)\n",
    "    plt.title(title_str)\n",
    "    plt.show()\n",
    "    plt.close()\n",
    "    \n",
    "    \n",
    "#######################################################################################################\n",
    "#Function that plots a 2D graph of a clusterization\n",
    "def plot_2D_clusters(clusters, centroids, title_str):\n",
    "    for cluster in clusters:\n",
    "        x = []\n",
    "        y = []\n",
    "        for sample in cluster.list_of_samples:\n",
    "            x.append(sample.features[0])\n",
    "            y.append(sample.features[1])\n",
    "        plt.scatter(x, y)    \n",
    "    x = []\n",
    "    y = []\n",
    "    for centroid in centroids: #If the centroids of the k-means were given in the input, plot them too\n",
    "        x.append(centroid.features[0])\n",
    "        y.append(centroid.features[1])\n",
    "    plt.scatter(x, y, marker=\"x\", color=\"black\")\n",
    "    plt.grid(linestyle='--')\n",
    "    plt.title(title_str)\n",
    "    plt.show()\n",
    "    plt.close()"
   ]
  },
  {
   "cell_type": "markdown",
   "id": "renewable-state",
   "metadata": {},
   "source": [
    "## 4.4 K-Means"
   ]
  },
  {
   "cell_type": "code",
   "execution_count": 5,
   "id": "banned-great",
   "metadata": {},
   "outputs": [],
   "source": [
    "#######################################################################################################\n",
    "#Function that assings each sample to a centroid\n",
    "def set_clusters(dataset, centroids, dimensions):\n",
    "    \n",
    "    for centroid in centroids: #Initialize the list of samples of each centroid as an empty list\n",
    "        centroid.list_of_samples = []\n",
    "        \n",
    "    for sample in dataset: #For each sample\n",
    "        closest_centroid = None #Variable that will contain the closest centroid\n",
    "        min_distance = math.inf\n",
    "        for centroid in centroids: #Check the distance of all centroids and select the closest\n",
    "            distance = get_distance(sample, centroid, dimensions)\n",
    "            if distance < min_distance:\n",
    "                min_distance = distance\n",
    "                closest_centroid = centroid\n",
    "        closest_centroid.list_of_samples.append(sample) #Add the sample to the list of samples of the closest centroid\n",
    "\n",
    "\n",
    "#######################################################################################################\n",
    "#Function that calculates the Sum of the Squared Error\n",
    "def get_sse(centroids, dimensions):\n",
    "    sum = 0\n",
    "    for centroid in centroids:\n",
    "        for sample in centroid.list_of_samples:\n",
    "            sum = sum + get_distance(centroid, sample, dimensions)**2\n",
    "    return sum\n",
    "\n",
    "\n",
    "#######################################################################################################\n",
    "#Function that updates the features values of each centroid\n",
    "def update_centroids(centroids):\n",
    "    for centroid in centroids: #For each centroid\n",
    "        for i in range(len(centroid.features)): #For each feature of the centroid\n",
    "            centroid.features[i] = 0  \n",
    "            for j in range(len(centroid.list_of_samples)): #Collected the feature value of each sample assigned to the centroid\n",
    "                centroid.features[i] += centroid.list_of_samples[j].features[i]\n",
    "            if(len(centroid.list_of_samples) > 0): #If the cluster is not empty\n",
    "                centroid.features[i] = centroid.features[i]/float(len(centroid.list_of_samples)) #Apply the average value\n",
    "\n",
    "                \n",
    "#######################################################################################################\n",
    "#Function that implements the k-means clusterization method\n",
    "def kmeans(dataset, n_clusters, dimensions):\n",
    "    \n",
    "    drawed_samples = random.sample(dataset, n_clusters) #Draw n_clusters samples to be the initial centroids\n",
    "    centroids = [] #Array of centroids\n",
    "    for i in range(n_clusters): #Add the initial centroids\n",
    "        new_centroid = Centroid(i+1, drawed_samples[i].features.copy())\n",
    "        centroids.append(new_centroid)\n",
    "    \n",
    "    set_clusters(dataset, centroids, dimensions) #Set the initial clusters\n",
    "    current_sse = get_sse(centroids, dimensions) #Calculate the inital error value\n",
    "    sse_converged = False #Flag that indicates if the error value converged\n",
    "    \n",
    "    iteration = 1\n",
    "    #print(\"Iteration #\" + str(iteration))\n",
    "    #plot_2D_clusters(centroids)\n",
    "    \n",
    "    while(not sse_converged): #Main loop of kmeans\n",
    "        update_centroids(centroids) #Update the centroid features values\n",
    "        set_clusters(dataset, centroids, dimensions) #Reset the clusters\n",
    "        new_sse = get_sse(centroids, dimensions) #Get the new error value\n",
    "        if new_sse < current_sse: #Check if the error value converged\n",
    "            current_sse = new_sse\n",
    "        else:\n",
    "            sse_converged = True\n",
    "        iteration += 1\n",
    "        #print(\"Iteration #\" + str(iteration))\n",
    "        #plot_2D_clusters(centroids)\n",
    "        \n",
    "    clusters = []\n",
    "    i = 1\n",
    "    for centroid in centroids:\n",
    "        new_cluster = Cluster(i, centroid.list_of_samples.copy())\n",
    "        clusters.append(new_cluster)\n",
    "        for sample in new_cluster.list_of_samples:\n",
    "            sample.cluster = new_cluster\n",
    "        i += 1\n",
    "    \n",
    "    return clusters, centroids, current_sse\n",
    "\n",
    "\n",
    "#######################################################################################################\n",
    "#Function that make a clustrization of the points from the test set using the centroids obtained in the training step\n",
    "def extend_kmeans_clusterization(centroids, test_set, n_dimensions):\n",
    "    set_clusters(test_set, centroids, n_dimensions)\n",
    "    clusters = []\n",
    "    i = 1\n",
    "    for centroid in centroids:\n",
    "        new_cluster = Cluster(i, centroid.list_of_samples.copy())\n",
    "        clusters.append(new_cluster)\n",
    "        for sample in new_cluster.list_of_samples:\n",
    "            sample.cluster = new_cluster\n",
    "        i += 1\n",
    "    return clusters"
   ]
  },
  {
   "cell_type": "markdown",
   "id": "challenging-neutral",
   "metadata": {},
   "source": [
    "## 4.5 DBSCAN"
   ]
  },
  {
   "cell_type": "code",
   "execution_count": 74,
   "id": "serial-sustainability",
   "metadata": {},
   "outputs": [],
   "source": [
    "#######################################################################################################\n",
    "# Initialyze every node as undefined\n",
    "def DBSCAN_initialization(dataset):\n",
    "    DBSCAN_dataset = []\n",
    "    for sample in dataset:\n",
    "        new_node = DBSCAN_node(sample, \"undefined\", -1)\n",
    "        DBSCAN_dataset.append(new_node)\n",
    "    \n",
    "    return DBSCAN_dataset\n",
    "\n",
    "\n",
    "#######################################################################################################\n",
    "# Plot the clusterizartion represented by clusters\n",
    "def DBSCAN_plot_2D_clusters(clusters):\n",
    "    if len(clusters[0]) <= 0:\n",
    "        del clusters[0]\n",
    "    \n",
    "    for c in clusters:\n",
    "        x = []\n",
    "        y = []\n",
    "        for point in clusters[c]:\n",
    "            x.append(point.sample.features[0])\n",
    "            y.append(point.sample.features[1])\n",
    "        plt.scatter(x, y)    \n",
    "    plt.show()\n",
    "\n",
    "\n",
    "#######################################################################################################\n",
    "# Find the neighborhood in a radius of <eps> of the node <point>\n",
    "def DBSCAN_find_neighborhood(dataset, dist_func, dim, eps, point):\n",
    "    neighbors = []\n",
    "    for n in dataset:\n",
    "        if dist_func(n.sample, point.sample, dim) <= eps:\n",
    "            neighbors.append(n)\n",
    "    \n",
    "    return set(neighbors)\n",
    "\n",
    "\n",
    "#######################################################################################################\n",
    "# Expand the cluster starting inpoint <core>\n",
    "def DBSCAN_find_cluster(dataset, dist_func, dim, eps, minPoints, core, n_cluster):\n",
    "    cluster = []\n",
    "    to_explore = deque()\n",
    "    \n",
    "    cluster.append(core)\n",
    "    to_explore.append(core)\n",
    "    \n",
    "    # explore neighborhoods to expand the current cluster\n",
    "    while len(to_explore) > 0:\n",
    "        q = to_explore.popleft()\n",
    "        q.neighborhood = DBSCAN_find_neighborhood(dataset, dist_func, dim, eps, q)          \n",
    "        \n",
    "        # classify current point according to the size of its neighborhood\n",
    "        if len(q.neighborhood) >= minPoints: # current point is core\n",
    "            q.label = \"core\" \n",
    "            \n",
    "            # mark each neighbor as part of the current cluster \n",
    "            for r in q.neighborhood:\n",
    "                if r.label == \"undefined\" or r.label == \"noise\":\n",
    "                    r.cluster = n_cluster\n",
    "                    cluster.append(r)\n",
    "                    \n",
    "                    # classify current neighbor according to the size of its neighborhood\n",
    "                    if len(DBSCAN_find_neighborhood(dataset, dist_func, dim, eps, r)) >= minPoints:\n",
    "                        r.label = \"core\"\n",
    "                    else:\n",
    "                        r.label = \"border\"\n",
    "                    \n",
    "                    # add neighbor to the queue (if it is not there yet), so its neioghborhood will be analyzed\n",
    "                    if r not in to_explore:\n",
    "                        to_explore.append(r)\n",
    "                \n",
    "        else: # current point is border  \n",
    "            q.label = \"border\" \n",
    "    \n",
    "    return cluster\n",
    "    \n",
    "\n",
    "#######################################################################################################\n",
    "# DBSCAN implementation\n",
    "def DBSCAN(dataset, dist_func, dim, eps, minDensity):\n",
    "    # obtain a dataset in the convenient format\n",
    "    dataset = DBSCAN_initialization(dataset)\n",
    "    \n",
    "    # initialize auxiliary variables\n",
    "    n_clusters = 0   # name of the clusters\n",
    "    clusters = {}    # clusters obtained as the model\n",
    "    clusters[0] = [] # list to gather all outliers in one cluster\n",
    "    \n",
    "    for point in dataset:\n",
    "        if point.label == \"undefined\":\n",
    "            point.neighborhood = DBSCAN_find_neighborhood(dataset, dist_func, dim, eps, point)\n",
    "            \n",
    "            # check neighborhood of the current point\n",
    "            if len(point.neighborhood) >= minDensity: # neighborhood is large enough, current point is a core point\n",
    "                point.label = \"core\"\n",
    "                \n",
    "                # start a new cluster\n",
    "                n_clusters += 1 \n",
    "                point.cluster = n_clusters\n",
    "                clusters[n_clusters] = DBSCAN_find_cluster(dataset, dist_func, dim, eps, minDensity, point, n_clusters)\n",
    "            \n",
    "            else: # neighborhood not large enough, then classify current point as noise so that it may later be joined in some cluster\n",
    "                point.label = \"noise\"\n",
    "                point.cluster = 0\n",
    "                    \n",
    "    # create one cluster for all the outliers\n",
    "    for point in dataset:\n",
    "        if point.label == \"noise\":\n",
    "            clusters[0].append(point)\n",
    "\n",
    "    return dataset, clusters  \n",
    "\n",
    "\n",
    "#######################################################################################################\n",
    "# Find the distance of the k-nearest neighbors of <point>\n",
    "def DBSCAN_get_nearest_distances(dataset, dist_func, dim, k, point):\n",
    "    dist = []\n",
    "    for q in dataset:\n",
    "        dist.append(get_distance(q, point, dim))\n",
    "    \n",
    "    return sorted(dist)[:k]\n",
    "\n",
    "\n",
    "#######################################################################################################\n",
    "# Plot an elbow graph based on the k-nearest neighbors graph\n",
    "def DBSCAN_plot_elbow_graph(dataset, func_dist, dim, k):\n",
    "    k_neighbors = {p : [] for p in dataset}\n",
    "    for p in dataset:\n",
    "        k_neighbors[p] = DBSCAN_get_nearest_distances(dataset, func_dist, dim, k, p) \n",
    "\n",
    "    estimated_eps = [k_neighbors[p][k-1:] for p in training_set]\n",
    "    estimated_eps = sorted(estimated_eps, reverse=True)\n",
    "\n",
    "    # plot the elbow graph\n",
    "    x = [i for i in range(len(estimated_eps))]\n",
    "    y = estimated_eps\n",
    "    plt.xlabel(\"index\")\n",
    "    plt.ylabel(\"distance\")\n",
    "    plt.plot(x, y, 'g-')    \n",
    "    plt.show()\n",
    "\n",
    "#######################################################################################################\n",
    "# Adjust cluster format (from dictionary to list of object)\n",
    "def DBSCAN_format_cluster_into_obj(clusters):\n",
    "    clusters_list = []\n",
    "    \n",
    "    c_pairs = clusters.items()\n",
    "    for p in c_pairs:\n",
    "        sample_list = []\n",
    "        for q in p[1]:\n",
    "            q.sample.cluster = p[0]\n",
    "            sample_list.append(q.sample)\n",
    "\n",
    "        clusters_list.append( Cluster(p[0], sample_list) )\n",
    "    \n",
    "    if len(clusters_list[0].list_of_samples) <= 0:\n",
    "        clusters_list = clusters_list[1:]\n",
    "    \n",
    "    return clusters_list\n",
    "   \n",
    "#######################################################################################################   \n",
    "# Plot the Silhouette coefficient graph for a set of clusters (model)\n",
    "def DBSCAN_plot_silhouette_graph(dataset, clusters, dim, eps, title):\n",
    "    if 0 in clusters:\n",
    "        del clusters[0]\n",
    "    \n",
    "    clusters_list = DBSCAN_format_cluster_into_obj(clusters)\n",
    "    print(\"O número de clusters é \", len(clusters_list))\n",
    "    \n",
    "    if len(clusters_list) > 1:\n",
    "        ss = calculate_silhouette_score(clusters_list, dim)\n",
    "        print(\"O coeficiente silhouette é \", ss)\n",
    "        plot_silhouette_graph(dataset, clusters_list, dim, len(clusters_list), title)\n",
    "\n",
    "#######################################################################################################    \n",
    "# Runs DBSCAN with a set of different configurations and returns the configuration that reaches the best silhoutte score\n",
    "def DBSCAN_tune_parameters(dataset, dim, func_dist, densities, radii):\n",
    "    Score = namedtuple(\"Score\", [\"density\", \"eps\"])\n",
    "    \n",
    "    SS = {}\n",
    "    for d in densities:\n",
    "        # plot elbow\n",
    "        for r in radii:\n",
    "            s = Score(density=int(d), eps= r)\n",
    "            model, clusters = DBSCAN(dataset, func_dist, dim, r, int(d))\n",
    "            clusters_list = DBSCAN_format_cluster_into_obj(clusters)\n",
    "            SS[s] = calculate_silhouette_score(clusters_list, dim)\n",
    "        \n",
    "    best_score = max(SS, key=SS.get)\n",
    "    \n",
    "    return best_score.density, best_score.eps, SS[best_score]"
   ]
  },
  {
   "cell_type": "markdown",
   "id": "soviet-dallas",
   "metadata": {},
   "source": [
    "# 5 Experimentos\n",
    "\n",
    "Nesta seção, apresentamos os experimentos realizados compostos de duas partes, de acordo com a especificação do projeto. Na Seção 5.1, aplicamos os nossos métodos aos dois *datasets* previamente apresentados. Na Seção 5.2, investigamos a utilização de técnicas de redução de dimensionalidade para o Tripadvisor com aplicação do K-means. Por fim, na Seção 5.3, analisamos a influência da inicialização dos centroides no K-means com o 2D-dataset.\n",
    "\n",
    "Alguns passos da nossa experimentação envolvem a geração de números pseudoaleatórios. Para esse propósito, utilizamos o gerador de números pseudoaletórios do módulo **random**. O trecho de código a seguir inicializa o gerador com uma semente."
   ]
  },
  {
   "cell_type": "code",
   "execution_count": 8,
   "id": "elegant-gasoline",
   "metadata": {},
   "outputs": [],
   "source": [
    "seed = 36516285968928\n",
    "random.seed(seed)"
   ]
  },
  {
   "cell_type": "markdown",
   "id": "indoor-folder",
   "metadata": {},
   "source": [
    "\n",
    "## 5.1 Parte I - Métodos de Clusterização\n",
    "\n",
    "Esta seção é dividida em duas subseções. Na Subseção 5.1.1, tratamos o 2D-dataset com nossos algoritmos. Já na Seção 5.1.2, tratamos o *dataset* Tripadvisor"
   ]
  },
  {
   "cell_type": "markdown",
   "id": "unlike-formation",
   "metadata": {},
   "source": [
    "### 5.1.1 2D-dataset\n",
    "\n",
    "Primeiramente, executamos os experimentos previstos na especificação do projeto para o 2D-dataset. O primeiro passo consiste em ler o arquivo de entrada. O *dataset* é armazenado em uma lista\n",
    "que contém os objetos da classe **Sample**."
   ]
  },
  {
   "cell_type": "code",
   "execution_count": 9,
   "id": "interpreted-posting",
   "metadata": {},
   "outputs": [],
   "source": [
    "TwoD_dataset = get_dataset(\"cluster.dat\") #Read the input and build the dataset\n",
    "TwoD_n_dimensions = 2 #Set the number of dimensions"
   ]
  },
  {
   "cell_type": "markdown",
   "id": "extended-tobacco",
   "metadata": {},
   "source": [
    "Em seguida, aleatorizamos a ordem dos *samples* do 2D-dataset e o dividimos entre conjunto de treinamento e conjunto de teste na proporção 90/10."
   ]
  },
  {
   "cell_type": "code",
   "execution_count": 10,
   "id": "demographic-florida",
   "metadata": {},
   "outputs": [],
   "source": [
    "random.shuffle(TwoD_dataset) #Randomize the order of the dataset array \n",
    "TwoD_training_set, TwoD_test_set = divide_dataset(TwoD_dataset, 0.9, 0.1) #Partition the dataset into training set and test set"
   ]
  },
  {
   "cell_type": "markdown",
   "id": "ancient-interference",
   "metadata": {},
   "source": [
    "Como desconhecemos a distruibuição e o intervalo dos valores das *features* do nosso 2D-dataset, aplicamos o processo de *standardization* denominado *$z$-score normalization* ao conjuno de treinamento."
   ]
  },
  {
   "cell_type": "code",
   "execution_count": 11,
   "id": "exclusive-special",
   "metadata": {},
   "outputs": [],
   "source": [
    "z_score_normalization(TwoD_training_set, TwoD_n_dimensions) #Apply the z-score normalization"
   ]
  },
  {
   "cell_type": "markdown",
   "id": "cheap-picnic",
   "metadata": {},
   "source": [
    "Nesse ponto, o formato da distribuição dos *samples* de treinamento foi modificado, de maneira que para cada *feature*, o valor médio entre todos os *samples* é igual a 0 e o desvio padrão é igual a 1. Como vimos em aula, esse tipo de procedimento é útil em diversos casos e, em particular, quando nossos algoritmos envolvem o uso de distância euclidiana, que é nosso caso. Se não utilizássemos *feature scaling*, poderia ocorrer que alguma das *features* tivesse uma faixa de valores mais ampla que as demais, e nesse cenário a clusterização seria fortemente enviesada por tais *features*.\n",
    "\n",
    "Agora, utilizaremos o K-means com o 2D-dataset. O próximo passo consiste em determinar o valor mais adequado para o parâmetro $k$, que estabelece o número de *clusters* que será produzido pelo K-means para o 2D-dataset na etapa de treinamento.\n",
    "\n",
    "É válido ressaltar que estamos utilizando o método Foggy de inicialização de centroides, o qual consiste em escolher as coordenadas iniciais dos centroides como coordenadas de pontos do *dataset* escolhidos de maneira aleatória. A razão pela qual optamos por essa abordagem se deve aos seguintes fatos:\n",
    "-Alta probabilidade de que cada centroide esteja inicialmente localizado próximo aos *samples*;\n",
    "-Rápida inicialização dos centroides.\n",
    "\n",
    "Dito isso, para cada $k \\in \\{1,2,3, \\dots, 10\\}$, executamos o K-means 5 vezes. Para cada valor de $k$, computamos a média da *sum of squared error* (SSE) entre as 5 execuções. A SSE é definida como a soma das distâncias euclidianas quadradas de cada *sample* até seu centroide mais próximo. Note que uma vez que trata-se de uma métrica de erro, o objetivo K-means é tentar minimizar esse valor. Utilizando as médias computadas, produzimos um *gráfico cotovelo*, apresentado a seguir."
   ]
  },
  {
   "cell_type": "code",
   "execution_count": 10,
   "id": "informed-situation",
   "metadata": {
    "scrolled": true
   },
   "outputs": [
    {
     "data": {
      "image/png": "[encoded data removed]",
      "text/plain": [
       "<Figure size 432x288 with 1 Axes>"
      ]
     },
     "metadata": {
      "needs_background": "light"
     },
     "output_type": "display_data"
    }
   ],
   "source": [
    "min_k = 1\n",
    "max_k = 10\n",
    "n_repetitions = 5\n",
    "title_str = \"Gráfico elbow do K-means para o 2D-dataset\"\n",
    "plot_elbow_graph(TwoD_training_set, TwoD_n_dimensions, min_k, max_k, n_repetitions, title_str) #Plot elbow graph"
   ]
  },
  {
   "cell_type": "markdown",
   "id": "medieval-democrat",
   "metadata": {},
   "source": [
    "De acordo com o gráfico acima, os valores de $k$ iguais a 3 e 4 são aqueles em que o gráfico mais se assemelha a um cotovelo. Baseando-se no conteúdo visto em aula, estes valores são os principais candidatos para determinarmos o valor de $k$.\n",
    "\n",
    "Para corroborar os resultados vistos no gráfico elbow e desempatar a escolha do valor de $k$ entre 3 e 4, utilizamos o *silhouette score*.\n",
    "\n",
    "O *silhouette score* de uma clusterização é igual à média dos *silhouette coefficents* de todos os *samples*. Por sua vez, o *silhouette coefficent* indica o quão próximo um *sample* é ao em relação ao seu próprio cluster (coesão) em relação à proximidade do *sample* com outros clusters (separação). O coeficiente pertence ao intervalo $[-1,1]$. Quanto mais próximo de 1 é o valor, maior é o indicativo de que o *sample* \"combina\" com o *cluster* em que ele foi alocado e que não combina com os demais *clusters*. Se a maioria dos *samples* tiver um coeficiente alto, chega-se a que a *clusterização* foi feita de maneira apropriada. Se muitos *samples* tiverem um valor baixo ou negativo, é possível que a clusterização possua uma quantidade de *clusters* abaixo ou acima do ideal.\n",
    "\n",
    "Para cada $k \\in \\{2,3, \\dots, 10\\}$, executamos o K-means 5 vezes para cada valor de $k$, computamos a média do *silhouette score* entre as 5 execuções. Utilizando as médias cumputadas, produzimos o gráfico apresentado a seguir."
   ]
  },
  {
   "cell_type": "code",
   "execution_count": 11,
   "id": "complicated-tennessee",
   "metadata": {},
   "outputs": [
    {
     "data": {
      "image/png": "[encoded data removed]",
      "text/plain": [
       "<Figure size 432x288 with 1 Axes>"
      ]
     },
     "metadata": {
      "needs_background": "light"
     },
     "output_type": "display_data"
    }
   ],
   "source": [
    "min_k = 2\n",
    "max_k = 10\n",
    "n_repetitions = 5\n",
    "title_str = \"Silhouette scores do K-means para o 2D-dataset\"\n",
    "plot_silhouette_avg_score_graph(TwoD_training_set, TwoD_n_dimensions, min_k, max_k, n_repetitions, title_str) #Plot silhouette average score graph"
   ]
  },
  {
   "cell_type": "markdown",
   "id": "quiet-basic",
   "metadata": {},
   "source": [
    "Do gráfico acima podemos concluir que para $k = 3$ a média do *silhouette score* é de aproximadamente 0.69 e este é o maior valor obtido para o intervalo testado. O segundo maior *score* é de aproximadamente 0.56 e, portanto, há uma discrepância considerável nos *scores* obtidos para $k = 3$ e $k = 4$. Portanto, para conduzir a etapa de treinamento, escolhemos $k = 3$.\n",
    "\n",
    "O próximo passo consiste em executar o K-means com o conjunto de treinamento."
   ]
  },
  {
   "cell_type": "code",
   "execution_count": 20,
   "id": "cardiovascular-insider",
   "metadata": {},
   "outputs": [],
   "source": [
    "k = 3\n",
    "TwoD_training_clusters, TwoD_training_centroids, TwoD_training_sse = kmeans(TwoD_training_set, k, TwoD_n_dimensions) #Execute k-means with training set"
   ]
  },
  {
   "cell_type": "markdown",
   "id": "geographic-assumption",
   "metadata": {},
   "source": [
    "Como temos apenas duas dimensões no 2D-dataset, podemos visualizar a clusterização feita para o conjunto de treinamento."
   ]
  },
  {
   "cell_type": "code",
   "execution_count": 21,
   "id": "palestinian-forty",
   "metadata": {},
   "outputs": [
    {
     "data": {
      "image/png": "[encoded data removed]",
      "text/plain": [
       "<Figure size 432x288 with 1 Axes>"
      ]
     },
     "metadata": {
      "needs_background": "light"
     },
     "output_type": "display_data"
    }
   ],
   "source": [
    "title_str = \"Clusterização do K-means para o treinamento do 2D-dataset com k = 3\"\n",
    "plot_2D_clusters(TwoD_training_clusters, TwoD_training_centroids, title_str)"
   ]
  },
  {
   "cell_type": "markdown",
   "id": "aware-permit",
   "metadata": {},
   "source": [
    "Na figura acima, podemos os *samples* coloridos com a mesma cor pertencem ao mesmo *cluster*. Claramente há 3 *clusters* e os centroides associados a cada um dos *clusters* estão demarcados com uma cruz preta.\n",
    "\n",
    "Para avaliar a qualidade da clusterização feita pelo K-means para o conjunto de treino do 2D-dataset, calculamos o *silhouette score* da clusterização."
   ]
  },
  {
   "cell_type": "code",
   "execution_count": 22,
   "id": "ruled-width",
   "metadata": {},
   "outputs": [
    {
     "name": "stdout",
     "output_type": "stream",
     "text": [
      "Silhouette score da clusterização do K-means para o treinamento do 2D-dataset com k = 3: 0.6912445644970896\n"
     ]
    }
   ],
   "source": [
    "silhouette_score = calculate_silhouette_score(TwoD_training_clusters, TwoD_n_dimensions)\n",
    "print(\"Silhouette score da clusterização do K-means para o treinamento do 2D-dataset com k = 3: \" + str(silhouette_score))"
   ]
  },
  {
   "cell_type": "markdown",
   "id": "floral-hungary",
   "metadata": {},
   "source": [
    "Apresentamos também o gráfico *silhouette* da clusterização."
   ]
  },
  {
   "cell_type": "code",
   "execution_count": 23,
   "id": "least-ribbon",
   "metadata": {},
   "outputs": [
    {
     "data": {
      "image/png": "[encoded data removed]",
      "text/plain": [
       "<Figure size 432x288 with 1 Axes>"
      ]
     },
     "metadata": {
      "needs_background": "light"
     },
     "output_type": "display_data"
    }
   ],
   "source": [
    "title_str = \"Gráfico silhouette da clusterização do K-means para o treinamento do 2D-dataset com k = 3\"\n",
    "plot_silhouette_graph(TwoD_training_set, TwoD_training_clusters, TwoD_n_dimensions, k, title_str)"
   ]
  },
  {
   "cell_type": "markdown",
   "id": "optional-inside",
   "metadata": {},
   "source": [
    "No gráfico acima, cada barra horizontal representa o *silhouette coefficent* de um *sample* de acordo com a clusterização. As barras estão agrupadas por *cluster* e a linha tracejada vertical indica o *silhouette score* da clusterização. Desse *plot*, chegamos que no geral, os *samples* alcançaram coeficientes próximos da média. Em particular, quase a totalidade dos *samples* do *cluster* 1 ficaram apresentaram coeficiente acima da média. Isso indica que embora os três *clusters* apresentem boa coesão, o mais coeso deles é o *cluster* 1. Esse resultado está de acordo com o gráfico anterior que apresenta a clusterização. Note que os pontos do *cluster* 1 são aqueles que, no gerla, estão mais afastados dos demais *clusters* e mais próximos entre si.\n",
    "\n",
    "A próxima etapa, a etapa de teste, é passo final para a utilização do K-means com o 2D-dataset. Nesse caso utilizamos os centroides obtidos no treinamento para clusterizar os *samples* do conjunto de teste. Primeiramente, aplicamos o *$z$-score normalization* para o conjunto de teste, assim como fizemos para o conjunto de treinamento."
   ]
  },
  {
   "cell_type": "code",
   "execution_count": 24,
   "id": "coordinate-interaction",
   "metadata": {},
   "outputs": [],
   "source": [
    "z_score_normalization(TwoD_test_set, TwoD_n_dimensions) #Apply the z-score normalization"
   ]
  },
  {
   "cell_type": "markdown",
   "id": "binary-processor",
   "metadata": {},
   "source": [
    "Em seguida, fazemos o que segue. Para cada *sample* do conjunto de teste, verificamos qual é o centroide mais próximo e alocamos o *sample* nesse centroide."
   ]
  },
  {
   "cell_type": "code",
   "execution_count": 25,
   "id": "mathematical-group",
   "metadata": {},
   "outputs": [],
   "source": [
    "TwoD_test_clusters = extend_kmeans_clusterization(TwoD_training_centroids, TwoD_test_set, TwoD_n_dimensions)"
   ]
  },
  {
   "cell_type": "markdown",
   "id": "periodic-dictionary",
   "metadata": {},
   "source": [
    "Como temos apenas duas dimensões no 2D-dataset, podemos visualizar a clusterização feita para o conjunto de teste."
   ]
  },
  {
   "cell_type": "code",
   "execution_count": 26,
   "id": "sapphire-elimination",
   "metadata": {},
   "outputs": [
    {
     "data": {
      "image/png": "[encoded data removed]",
      "text/plain": [
       "<Figure size 432x288 with 1 Axes>"
      ]
     },
     "metadata": {
      "needs_background": "light"
     },
     "output_type": "display_data"
    }
   ],
   "source": [
    "title_str = \"Clusterização do K-means para o teste do 2D-dataset com k = 3\"\n",
    "plot_2D_clusters(TwoD_test_clusters, [], title_str)"
   ]
  },
  {
   "cell_type": "markdown",
   "id": "pressed-biodiversity",
   "metadata": {},
   "source": [
    "Em seguida calculamos o *silhouette score* da clusterização dos *samples* de teste e exibimos o seu gráfico *silhouette*."
   ]
  },
  {
   "cell_type": "code",
   "execution_count": 27,
   "id": "other-diesel",
   "metadata": {},
   "outputs": [
    {
     "name": "stdout",
     "output_type": "stream",
     "text": [
      "Silhouette score da clusterização do K-means para o teste do 2D-dataset com k = 3: 0.702169545602683\n"
     ]
    },
    {
     "data": {
      "image/png": "[encoded data removed]",
      "text/plain": [
       "<Figure size 432x288 with 1 Axes>"
      ]
     },
     "metadata": {
      "needs_background": "light"
     },
     "output_type": "display_data"
    }
   ],
   "source": [
    "silhouette_score = calculate_silhouette_score(TwoD_test_clusters, TwoD_n_dimensions)\n",
    "print(\"Silhouette score da clusterização do K-means para o teste do 2D-dataset com k = 3: \" + str(silhouette_score))\n",
    "title_str = \"Gráfico silhouette da clusterização do K-means para o teste do 2D-dataset com k = 3\"\n",
    "plot_silhouette_graph(TwoD_test_set, TwoD_test_clusters, TwoD_n_dimensions, k, title_str)"
   ]
  },
  {
   "cell_type": "markdown",
   "id": "bibliographic-providence",
   "metadata": {},
   "source": [
    "De acordo com o gráfico acima, a qualidade da clusterização do conjunto de teste foi ligeiramente melhor, na média, que a qualidade da clusterização do conjunto de treinamento. Além disso, os resultados obtidos para os *clusters* de teste são bastante semelhantes com aqueles obtidos na etapa de treinamento."
   ]
  },
  {
   "cell_type": "markdown",
   "id": "asian-firewall",
   "metadata": {},
   "source": [
    "Agora, repetimos o mesmo procedimento com o DBSCAN. Para dispor de bases consistentes para posterior comparação entre os dois métodos, utilizaremos os mesmos conjuntos de treinamento e de teste. Sendo assim, podemos passar para a etapa de calibrar os hiper-parâmetros do DBSCAN, isto é, a densidade e a distância. \n",
    "De acordo com a principal fonte que consultamos para aprender sobre o DBSCAN (https://www.kdnuggets.com/2020/04/dbscan-clustering-algorithm-machine-learning.html), o valor de densidade mínima deve ser maior que 2, caso contrário o DBSCAN teria um comportamento similar ao de clusterização por hierarquia, o que não é o que buscamos aqui. Mais ainda, é dito que uma boa regra é tomar a densidade mínima como sendo duas vezes a dimensão do dataset. Em nossos experimentos, utilizamos tal regra. Em seguida, testamos essa densidade com uma lista de 50 valores uniformemente distribuídos entre 0.1 e 10. A ideia é conseguir testar tanto distâncias curtas como longas."
   ]
  },
  {
   "cell_type": "code",
   "execution_count": 51,
   "id": "dangerous-valuable",
   "metadata": {},
   "outputs": [
    {
     "name": "stdout",
     "output_type": "stream",
     "text": [
      "A melhor configuração foi: densidade mínima =  4 e distância =  0.3020408163265306 obtendo coeficiente igual a  0.6912445644970896\n"
     ]
    }
   ],
   "source": [
    "# set interval of values for the hiper-parameters to be tested\n",
    "dim = 2\n",
    "density_interval = np.linspace(2*dim, 2*dim, 1)\n",
    "eps_interval = np.linspace(0.1, 10, 50)\n",
    "\n",
    "# find best configuration of parameters according to silhouette score\n",
    "best_d, best_e, best_ss = DBSCAN_tune_parameters(TwoD_training_set, 2, get_distance, density_interval, eps_interval)\n",
    "print(\"A melhor configuração foi: densidade mínima = \", best_d, \"e distância = \", best_e, \"obtendo coeficiente igual a \", best_ss)"
   ]
  },
  {
   "cell_type": "markdown",
   "id": "personal-uzbekistan",
   "metadata": {},
   "source": [
    "Uma vez com os hiper-parâmetros ajustados, rodamos o DBSCAN e, em seguida, o coeficiente *silhouette*."
   ]
  },
  {
   "cell_type": "code",
   "execution_count": 52,
   "id": "iraqi-beast",
   "metadata": {},
   "outputs": [
    {
     "data": {
      "image/png": "[encoded data removed]",
      "text/plain": [
       "<Figure size 432x288 with 1 Axes>"
      ]
     },
     "metadata": {
      "needs_background": "light"
     },
     "output_type": "display_data"
    },
    {
     "name": "stdout",
     "output_type": "stream",
     "text": [
      "O número de clusters é  3 coeficiente silhouette é  0.6912445644970896\n"
     ]
    },
    {
     "data": {
      "image/png": "[encoded data removed]",
      "text/plain": [
       "<Figure size 432x288 with 1 Axes>"
      ]
     },
     "metadata": {
      "needs_background": "light"
     },
     "output_type": "display_data"
    }
   ],
   "source": [
    "# runs DBSCAN using the appropiate values of epsilon (best_e) and density (best_d)\n",
    "model, clusters = DBSCAN(TwoD_training_set, get_distance, 2, best_e, best_d)\n",
    "\n",
    "# plot the clusterization and the Silhouette coefficient\n",
    "DBSCAN_plot_2D_clusters(clusters) \n",
    "DBSCAN_plot_silhouette_graph(TwoD_training_set, clusters, 2, best_e, \"Coeficiente Silhouette para DBSCAN com hiper-parâmetros ajustados\")"
   ]
  },
  {
   "cell_type": "markdown",
   "id": "blank-concentration",
   "metadata": {},
   "source": [
    "Uma vez adquirido um modelo, partimos para classificar o dataset de teste. Nossa abordagem foi: para cada nó do dataset de teste, buscar qual seria sua vizinhança se ele estivesse no dataset de treinamento, em seguida, contar quantos vizinhos de cada cluster aparecem na vizinhança dele e, por fim, atribuir o nó sendo analisado ao cluster que aparece com mais fequência nessa vizinhança. A seguir, rodamos esse experimento com o dataset de teste, utilizando como referência o modelo obtido acima com a configuração que gerou o melhor silhouette score. Plotamos a clusterização e o coeficiente silhouette para o resultado obtido."
   ]
  },
  {
   "cell_type": "code",
   "execution_count": 57,
   "id": "approved-favor",
   "metadata": {},
   "outputs": [
    {
     "data": {
      "image/png": "[encoded data removed]",
      "text/plain": [
       "<Figure size 432x288 with 1 Axes>"
      ]
     },
     "metadata": {
      "needs_background": "light"
     },
     "output_type": "display_data"
    },
    {
     "name": "stdout",
     "output_type": "stream",
     "text": [
      "O número de clusters é  3 coeficiente silhouette é  0.702169545602683\n"
     ]
    },
    {
     "data": {
      "image/png": "[encoded data removed]",
      "text/plain": [
       "<Figure size 432x288 with 1 Axes>"
      ]
     },
     "metadata": {
      "needs_background": "light"
     },
     "output_type": "display_data"
    }
   ],
   "source": [
    "# initialization of data set and auxiliary variables\n",
    "v_set = DBSCAN_initialization(TwoD_test_set)\n",
    "neighbors_count = {key: 0 for key in range(0,50)}\n",
    "v_clusters = {key: [] for key in range(0,50)}\n",
    "\n",
    "# get model generated by training the training set\n",
    "model, clusters_2 = DBSCAN(TwoD_training_set, get_distance, 2, best_e, best_d)  \n",
    "\n",
    "# classify each point of the test set one of the clusters of the model\n",
    "for v_point in v_set:\n",
    "    # get neighborhood of the current point as if it was placed in the model set\n",
    "    v_neighborhood = DBSCAN_find_neighborhood(model, get_distance, 2, best_e, v_point)\n",
    "    \n",
    "    # count the number of neighbors of each cluster\n",
    "    for q in v_neighborhood:\n",
    "        neighbors_count[q.cluster] += 1\n",
    "    \n",
    "    # set current point to the \"most frequent\" cluster in its \"model neighborhood\"\n",
    "    v_point.cluster = max(neighbors_count, key=neighbors_count.get)\n",
    "    \n",
    "    # reset the counter of neighbors of each cluster\n",
    "    neighbors_count = {key: 0 for key in neighbors_count}\n",
    "    \n",
    "# construct the dictionary with all clusters and plot the result\n",
    "for p in v_set:\n",
    "    v_clusters[p.cluster].append(p)\n",
    "\n",
    "# plot the clusterization\n",
    "DBSCAN_plot_2D_clusters(v_clusters)\n",
    "\n",
    "# delete unused clusters\n",
    "delete = [k for k,l in v_clusters.items() if len(l)==0]\n",
    "for d in delete:\n",
    "    del v_clusters[d]\n",
    "\n",
    "# plot the silhouette coeffcient grapph\n",
    "DBSCAN_plot_silhouette_graph(TwoD_test_set, v_clusters, 2, best_e, \"Coeficiente Silhouette para dataset de teste.\")"
   ]
  },
  {
   "cell_type": "markdown",
   "id": "metallic-sleep",
   "metadata": {},
   "source": [
    "O coeficiente silhouette para a fase de treinamento, com os melhores valores para os hiper-parâmetros atingiu valor 0.6912445644970896 e, na fase de teste, o coeficiente atingiu o valor 0.702169545602683. Isso que a fase de teste obteve bons resultados quando comparado ao treinamento. O número de clusters foi o mesmo nas duas fases e, como pode ser observado nos gráficos de clusterização, a distribuição dos clusters no plano também são similares. "
   ]
  },
  {
   "cell_type": "markdown",
   "id": "aggressive-emergency",
   "metadata": {},
   "source": [
    "### 5.1.2 Tripadvisor\n",
    "\n",
    "Nesta seção, repetiremos o experimento realizado na seção anterior, mas utilizando o *dataset* Tripadvisor, o qual possui 10 dimensões. Primeiramente, carregamos o *dataset*, o dividimos entre conjunto de treinamento e de teste e aplicamos o processo de *standardization* com o conjunto de treinamento."
   ]
  },
  {
   "cell_type": "code",
   "execution_count": 38,
   "id": "decimal-adams",
   "metadata": {},
   "outputs": [],
   "source": [
    "Tripadvisor_dataset = get_dataset(\"trip_advisor.dat\") #Read the input and build the dataset\n",
    "Tripadvisor_n_dimensions = 10 #Set the number of dimensions\n",
    "random.shuffle(Tripadvisor_dataset) #Randomize the order of the dataset array \n",
    "Tripadvisor_training_set, Tripadvisor_test_set = divide_dataset(Tripadvisor_dataset, 0.9, 0.1) #Partition the dataset into training set and test set\n",
    "z_score_normalization(Tripadvisor_training_set, Tripadvisor_n_dimensions) #Apply the z-score normalization"
   ]
  },
  {
   "cell_type": "markdown",
   "id": "natural-hobby",
   "metadata": {},
   "source": [
    "Em seguida, obtemos o gráfico *elbow* com $k \\in \\{1,2,3, \\dots, 10\\}$."
   ]
  },
  {
   "cell_type": "code",
   "execution_count": 27,
   "id": "medical-background",
   "metadata": {},
   "outputs": [
    {
     "data": {
      "image/png": "[encoded data removed]",
      "text/plain": [
       "<Figure size 432x288 with 1 Axes>"
      ]
     },
     "metadata": {
      "needs_background": "light"
     },
     "output_type": "display_data"
    }
   ],
   "source": [
    "min_k = 1\n",
    "max_k = 10\n",
    "n_repetitions = 5\n",
    "title_str = \"Gráfico elbow do K-means para o Tripadvisor\"\n",
    "plot_elbow_graph(Tripadvisor_training_set, Tripadvisor_n_dimensions, min_k, max_k, n_repetitions, title_str) #Plot elbow graph"
   ]
  },
  {
   "cell_type": "markdown",
   "id": "binding-timer",
   "metadata": {},
   "source": [
    "De acordo com o gráfico acima, o \"cotovelo\" ocorre para $k = 2$. Para corroborar o resultado vistos no gráfico *elbow* plotamos também o gráfico da média do *silhouette score* com $k \\in \\{1,2,3, \\dots, 5\\}$."
   ]
  },
  {
   "cell_type": "code",
   "execution_count": 28,
   "id": "boring-therapy",
   "metadata": {},
   "outputs": [
    {
     "data": {
      "image/png": "[encoded data removed]",
      "text/plain": [
       "<Figure size 432x288 with 1 Axes>"
      ]
     },
     "metadata": {
      "needs_background": "light"
     },
     "output_type": "display_data"
    }
   ],
   "source": [
    "min_k = 2\n",
    "max_k = 5\n",
    "n_repetitions = 5\n",
    "title_str = \"Silhouette scores do K-means para o Tripadvisor\"\n",
    "plot_silhouette_avg_score_graph(Tripadvisor_training_set, Tripadvisor_n_dimensions, min_k, max_k, n_repetitions, title_str) #Plot silhouette average score graph"
   ]
  },
  {
   "cell_type": "markdown",
   "id": "neither-france",
   "metadata": {},
   "source": [
    "Como a maior média do *silhouette score* ocorre para $k = 2$, o resultado do gráfico *elbow* foi corroborado e escolhemos $k = 2$ para executar o treinamento, o qual segue."
   ]
  },
  {
   "cell_type": "code",
   "execution_count": 29,
   "id": "appropriate-abuse",
   "metadata": {},
   "outputs": [],
   "source": [
    "k = 2\n",
    "Tripadvisor_training_clusters, Tripadvisor_training_centroids, Tripadvisor_training_sse = kmeans(Tripadvisor_training_set, k, Tripadvisor_n_dimensions) #Execute k-means with training set"
   ]
  },
  {
   "cell_type": "markdown",
   "id": "pleasant-beads",
   "metadata": {},
   "source": [
    "Para avaliar a qualidade da clusterização feita pelo K-means para o conjunto de treino do 2D-dataset, calculamos o *silhouette score* da clusterização."
   ]
  },
  {
   "cell_type": "code",
   "execution_count": 30,
   "id": "linear-massachusetts",
   "metadata": {},
   "outputs": [
    {
     "name": "stdout",
     "output_type": "stream",
     "text": [
      "Silhouette score da clusterização do K-means para o treinamento do Tripadvisor com k = 2: 0.2062016170340067\n"
     ]
    }
   ],
   "source": [
    "silhouette_score = calculate_silhouette_score(Tripadvisor_training_clusters, Tripadvisor_n_dimensions)\n",
    "print(\"Silhouette score da clusterização do K-means para o treinamento do Tripadvisor com k = 2: \" + str(silhouette_score))"
   ]
  },
  {
   "cell_type": "markdown",
   "id": "consecutive-weekly",
   "metadata": {},
   "source": [
    "Apresentamos também o gráfico *silhouette* da clusterização."
   ]
  },
  {
   "cell_type": "code",
   "execution_count": 25,
   "id": "collected-ministry",
   "metadata": {},
   "outputs": [
    {
     "data": {
      "image/png": "[encoded data removed]",
      "text/plain": [
       "<Figure size 432x288 with 1 Axes>"
      ]
     },
     "metadata": {
      "needs_background": "light"
     },
     "output_type": "display_data"
    }
   ],
   "source": [
    "title_str = \"Gráfico silhouette da clusterização do K-means para o treinamento do Tripadvisor com k = 3\"\n",
    "plot_silhouette_graph(Tripadvisor_training_set, Tripadvisor_training_clusters, Tripadvisor_n_dimensions, k, title_str)"
   ]
  },
  {
   "cell_type": "markdown",
   "id": "noted-canon",
   "metadata": {},
   "source": [
    "De acordo com o gráfico *silhouette*, o K-means obtive o desempenho baixo, com um *silhouette score* próximo de 0.2. Observe que embora todos os *samples* do cluster 1 possuam coeficientes positivos, para o *cluster* 2, existem *samples* com coeficientes negativos."
   ]
  },
  {
   "cell_type": "markdown",
   "id": "canadian-award",
   "metadata": {},
   "source": [
    "Agora, vamos rodar o mesmo experimento, mas utilizando o algoritmo DBSCAN.\n",
    "No caso do *dataset* *TripAdvisor*, como a dimensão é maior, nós optamos por dar uma margem de possíveis valores de densidade e, então, ao invéz de fixar a densidade em 20 (duas vezes a dimensão), nós testamos para densidade igual a 10 e para densidade igual a 20. \n",
    "Além disso, porque o *dataset* é muito extenso, diminuímos a quantidade de valores de distância testados. Para cada valor de densidade, testamos 10 valores de distância, distribuídos uniformemente no intervalo de 1 a 10.\n",
    "Abaixo está a rotina de calibragem dos parâmetros."
   ]
  },
  {
   "cell_type": "code",
   "execution_count": 69,
   "id": "equal-sullivan",
   "metadata": {},
   "outputs": [
    {
     "name": "stdout",
     "output_type": "stream",
     "text": [
      "A melhor configuração foi: densidade mínima =  20 e distância =  5.0 obtendo coeficiente igual a  0.5829847554531374\n"
     ]
    }
   ],
   "source": [
    "# set interval of values for the hiper-parameters to be tested\n",
    "dim = 10\n",
    "density_interval = np.linspace(dim, 2*dim, 2)\n",
    "eps_interval = np.linspace(1, 10, 10)\n",
    "\n",
    "# find best configuration of parameters according to silhouette score\n",
    "trip_best_d, trip_best_e, trip_best_ss = DBSCAN_tune_parameters(Tripadvisor_training_set, 10, get_distance, density_interval, eps_interval)\n",
    "print(\"A melhor configuração foi: densidade mínima = \", trip_best_d, \"e distância = \", trip_best_e, \"obtendo coeficiente igual a \", trip_best_ss)"
   ]
  },
  {
   "cell_type": "markdown",
   "id": "infinite-picnic",
   "metadata": {},
   "source": [
    "Note que, apesar de termos dado a possibilidade de a densidade ser 10, o melhor resultado foi com uma configuração em que a densidade é, de fato, 20 (ou seja, duas vezes a dimensão do *dataset*).\n",
    "\n",
    "Em seguida, rodamos o DBSCAN com os melhores valores encontrados para os hiper-parâmentros e plotamos o gráfico do coeficiente *silhouette*."
   ]
  },
  {
   "cell_type": "code",
   "execution_count": 78,
   "id": "skilled-diagram",
   "metadata": {},
   "outputs": [
    {
     "name": "stdout",
     "output_type": "stream",
     "text": [
      "O número de outliers é  2\n",
      "O número de clusters é  1\n"
     ]
    }
   ],
   "source": [
    "# runs DBSCAN using the appropiate values of epsilon (best_e) and density (best_d)\n",
    "trip_model, trip_clusters = DBSCAN(Tripadvisor_training_set, get_distance, 10, trip_best_e, trip_best_d)\n",
    "\n",
    "print(\"O número de outliers é \", len(trip_clusters[0]))\n",
    "\n",
    "# plot the clusterization and the Silhouette coefficient\n",
    "DBSCAN_plot_silhouette_graph(Tripadvisor_training_set, trip_clusters, 10, trip_best_e, \"Coeficiente Silhouette para DBSCAN com hiper-parâmetros ajustados\")\n"
   ]
  },
  {
   "cell_type": "markdown",
   "id": "lasting-stationery",
   "metadata": {},
   "source": [
    "Note que o nosso treinamento resultou em apenas um *cluster* e, por isso, não faz sentido plotar o gráfico do coeficiente *silhouette*. \n",
    "Uma vez que obtivemos um modelo referência, utilizamos o mesmo processo aplicado no caso 2d para clusterizar o conjunto de testes. "
   ]
  },
  {
   "cell_type": "code",
   "execution_count": 80,
   "id": "original-eclipse",
   "metadata": {},
   "outputs": [
    {
     "name": "stdout",
     "output_type": "stream",
     "text": [
      "O número de outliers é  1\n",
      "O número de clusters é  1\n"
     ]
    }
   ],
   "source": [
    "# initialization of data set and auxiliary variables\n",
    "trip_v_set = DBSCAN_initialization(Tripadvisor_test_set)\n",
    "trip_neighbors_count = {key: 0 for key in range(0,50)}\n",
    "trip_v_clusters = {key: [] for key in range(0,50)}\n",
    "\n",
    "# classify each point of the test set one of the clusters of the model\n",
    "for v_point in trip_v_set:\n",
    "    # get neighborhood of the current point as if it was placed in the model set\n",
    "    v_neighborhood = DBSCAN_find_neighborhood(trip_model, get_distance, 10, trip_best_e, v_point)\n",
    "    \n",
    "    # count the number of neighbors of each cluster\n",
    "    for q in v_neighborhood:\n",
    "        trip_neighbors_count[q.cluster] += 1\n",
    "    \n",
    "    # set current point to the \"most frequent\" cluster in its \"model neighborhood\"\n",
    "    v_point.cluster = max(trip_neighbors_count, key=trip_neighbors_count.get)\n",
    "    \n",
    "    # reset the counter of neighbors of each cluster\n",
    "    trip_neighbors_count = {key: 0 for key in trip_neighbors_count}\n",
    "    \n",
    "# construct the dictionary with all clusters and plot the result\n",
    "for p in trip_v_set:\n",
    "    trip_v_clusters[p.cluster].append(p)\n",
    "\n",
    "print(\"O número de outliers é \", len(trip_v_clusters[0]))\n",
    "# delete unused clusters\n",
    "delete = [k for k,l in trip_v_clusters.items() if len(l)==0]\n",
    "for d in delete:\n",
    "    del trip_v_clusters[d]\n",
    "\n",
    "# plot the silhouette coeffcient grapph\n",
    "DBSCAN_plot_silhouette_graph(Tripadvisor_test_set, trip_v_clusters, 10, trip_best_e, \"Coeficiente Silhouette para dataset de teste.\")"
   ]
  },
  {
   "cell_type": "markdown",
   "id": "through-plant",
   "metadata": {},
   "source": [
    "No conjunto de testes, o resultado também foi um único *cluster* e, por isso, não há plot do coeficiente *silhouette* nesse caso. \n",
    "Contudo, apesar de não termos os gráficos de tais coeficientes, é possível concluir que os resultados obtidos no conjunto de teste foi compatível com o resultado obtifo no conjunto de treinamento; ambos resultaram em apenas um clusters e poucos outliers, implicando que conseguimos um bom resultado após o treinamento.\n",
    "\n",
    "Falta agora comparar os resultados encontrados para o *dataset* *TripAdvisor* aplicando o *k-means* com os resultados encontrados aplicanso o DBSCAN."
   ]
  },
  {
   "cell_type": "markdown",
   "id": "spare-summary",
   "metadata": {},
   "source": [
    "## 5.2 Parte II - Redução de Dimensionalidade"
   ]
  },
  {
   "cell_type": "markdown",
   "id": "subjective-tiger",
   "metadata": {},
   "source": [
    "## 5.3 Inicialização de Centroides"
   ]
  },
  {
   "cell_type": "markdown",
   "id": "heated-accident",
   "metadata": {},
   "source": [
    "# 6 Considerações Finais\n",
    "\n",
    "### Algumas observações sobre o DBSCAN\n",
    "O desafio maior que o DBSCAN nos impôs foi o de ajustar seus parâmetros de entrada, especialmente pelo fato de serem dois deles. \n",
    "Para estimar um bom conjunto de parâmetros, nossa abordagem foi rodar o algoritmo com várias combinações diferentes, calcular o *silhouette score* para cada uma delas e, por fim, escolher a combinação que apresentou o melhor *score*.\n",
    "Para definir o intervalo de valores a ser considerado para a densidade, partimos da ideia, comum na literatura, de considerar duas vezes a dimensão do *dataset*. A dificuldade maior veio em estimar o valor do parâmetro de distância, pois não sabíamos de onde partir. Uma ideia foi a de utilizar o grafo dos $k$ vizinhos mais próximos para tentar estimar um raio conveniente, testanto vários valores de $k$. Nosssa ideia era plotar como $k$ valores que fóssemos tomar como a densidade e observar os resutlados. Contudo, não conseguimos finalizar esse experimento em tempo hábil e, por isso, seguimos uma abordagem mais direta: optamos por considerar um intervalo grande de valores, de forma a garantir que distâncias curtas e longas estejam sendo consideradas.\n",
    "\n",
    "### Participação individual\n",
    "Ambos discentes participaram ativamente durante todo o projeto. Em termos de implementação, Felipe lidou mais diretamente com o código da parte relacionadas ao k-means, enquanto Elisa lidou mais diretamente com a parte do DBSCAN. Contudo, as pesquisa e discussões foram sempre feitas em conjunto.  "
   ]
  },
  {
   "cell_type": "markdown",
   "id": "biological-navigator",
   "metadata": {},
   "source": [
    "# 7 Referências Bibliográficas\n",
    "\n",
    "\n",
    "### DBSCAN\n",
    "Foram usadas como referência duas fontes pricipais, as quais:\n",
    "- https://www.kdnuggets.com/2020/04/dbscan-clustering-algorithm-machine-learning.html\n",
    "- https://en.wikipedia.org/wiki/DBSCAN\n",
    "\n"
   ]
  },
  {
   "cell_type": "markdown",
   "id": "continuous-cologne",
   "metadata": {},
   "source": [
    "### K-means com dataset bidimensional"
   ]
  },
  {
   "cell_type": "code",
   "execution_count": null,
   "id": "selective-acrylic",
   "metadata": {
    "scrolled": true
   },
   "outputs": [],
   "source": [
    "\"\"\"\n",
    "#Testing K-means with 10-dimensional dataset\n",
    "dataset = get_dataset(\"trip_advisor.dat\") #Build the dataset\n",
    "n_dimensions = 10\n",
    "random.shuffle(dataset) #Randomize the dataset array\n",
    "#min_max_normalization(dataset, n_dimensions) #Apply the min-max normalization\n",
    "z_score_normalization(dataset, n_dimensions) #Apply the z-score normalization\n",
    "training_set, test_set = divide_dataset(dataset, 0.9, 0.1) #Partition the dataset into training set and test set\n",
    "plot_elbow_graph(training_set, n_dimensions,1, 10, 5) #Plot elbow graph\n",
    "plot_silhouette_avg_score_graph(training_set,n_dimensions, 2, 10, 5) #Plot silhouette average score graph\n",
    "\n",
    "for k in [2]:\n",
    "    clusters, centroids, sse = kmeans(training_set, k, n_dimensions)\n",
    "    plot_silhouette_graph(training_set, clusters, n_dimensions, k)\n",
    "    clusters_test_set = extend_kmeans_clusterization(centroids, test_set, n_dimensions)\n",
    "    plot_silhouette_graph(test_set, clusters_test_set, n_dimensions, k)\n",
    "\"\"\""
   ]
  },
  {
   "cell_type": "markdown",
   "id": "acceptable-family",
   "metadata": {},
   "source": [
    "### DBSCAN com dataset bidimensional"
   ]
  },
  {
   "cell_type": "code",
   "execution_count": null,
   "id": "mobile-syndicate",
   "metadata": {},
   "outputs": [],
   "source": [
    "# Get dataset\n",
    "ds_filepath = \"cluster.dat\"\n",
    "ds = get_dataset(ds_filepath)\n",
    "\n",
    "# Pre-process and divide the dataset into training and test sets\n",
    "random.seed(135551) \n",
    "random.shuffle(ds) \n",
    "training_set, test_set = divide_dataset(ds, 0.9, 0.1)\n",
    "z_score_normalization(training_set, 2)\n",
    "z_score_normalization(test_set, 2)\n",
    "\n",
    "# set hiper-parameters with the appropiate values\n",
    "density_interval = np.linspace(2*dim, 5*dim, 5)\n",
    "eps_interval = np.linspace(0.1, 2, 15)\n",
    "\n",
    "# find best parameters according to silhouette score\n",
    "best_d, best_e, best_ss = DBSCAN_tune_parameters(training_set, 2, get_distance, density_interval, eps_interval)\n",
    "\n",
    "# runs DBSCAN using the appropiate values of epsilon (best_e) and density (best_d)\n",
    "model, clusters = DBSCAN(training_set, get_distance, 2, best_e, best_d)\n",
    "\n",
    "# plot the clusterization and the Silhouette coefficient\n",
    "DBSCAN_plot_2D_clusters(clusters)\n",
    "DBSCAN_plot_silhouette_graph(training_set, clusters, 2, best_e)"
   ]
  },
  {
   "cell_type": "code",
   "execution_count": null,
   "id": "completed-dominican",
   "metadata": {},
   "outputs": [],
   "source": [
    "# initialization of data set and auxiliary variables\n",
    "v_set = DBSCAN_initialization(test_set)\n",
    "neighbors_count = {key: 0 for key in range(0,50)}\n",
    "v_clusters = {key: [] for key in range(0,50)}\n",
    "\n",
    "# get model generated by training the training set\n",
    "model, clusters_2 = DBSCAN(training_set, get_distance, 2, best_e, best_d)  \n",
    "\n",
    "# classify each point of the test set one of the clusters of the model\n",
    "for v_point in v_set:\n",
    "    # get neighborhood of the current point as if it was placed in the model set\n",
    "    v_neighborhood = DBSCAN_find_neighborhood(model, get_distance, 2, best_e, v_point)\n",
    "    \n",
    "    # count the number of neighbors of each cluster\n",
    "    for q in v_neighborhood:\n",
    "        neighbors_count[q.cluster] += 1\n",
    "    \n",
    "    # set current point to the \"most frequent\" cluster in its \"model neighborhood\"\n",
    "    v_point.cluster = max(neighbors_count, key=neighbors_count.get)\n",
    "    \n",
    "    # reset the counter of neighbors of each cluster\n",
    "    neighbors_count = {key: 0 for key in neighbors_count}\n",
    "    \n",
    "# construct the dictionary with all clusters and plot the result\n",
    "for p in v_set:\n",
    "    v_clusters[p.cluster].append(p)\n",
    "\n",
    "# plot the clusterization\n",
    "DBSCAN_plot_2D_clusters(v_clusters)\n",
    "\n",
    "# delete unused clusters\n",
    "delete = [k for k,l in v_clusters.items() if len(l)==0]\n",
    "for d in delete:\n",
    "    del v_clusters[d]\n",
    "\n",
    "# plot the silhouette coeffcient grapph\n",
    "DBSCAN_plot_silhouette_graph(test_set, v_clusters, 2, best_e)"
   ]
  },
  {
   "cell_type": "markdown",
   "id": "fabulous-retro",
   "metadata": {},
   "source": [
    "### DBSCAN com dataset 10-dimensional"
   ]
  },
  {
   "cell_type": "code",
   "execution_count": null,
   "id": "rental-search",
   "metadata": {},
   "outputs": [],
   "source": [
    "# Get dataset\n",
    "ds_filepath = \"trip_advisor.dat\"\n",
    "ds = get_dataset(ds_filepath)\n",
    "dim = len(training_set[0].features) # get the number of features of the dataset\n",
    "\n",
    "# Pre-process the dataset\n",
    "random.seed(37154) \n",
    "random.shuffle(ds)\n",
    "training_set, test_set = divide_dataset(ds, 0.9, 0.1) \n",
    "z_score_normalization(training_set, dim)\n",
    "z_score_normalization(test_set, dim)\n",
    "\n",
    "# set hiper-parameters with the appropiate values\n",
    "density_interval = np.linspace(2*dim, 5*dim, 5)\n",
    "eps_interval = np.linspace(0.1, 10)\n",
    "\n",
    "# find best parameters according to silhouette score\n",
    "best_d, best_e, best_ss = DBSCAN_tune_parameters(training_set, dim, get_distance, density_interval, eps_interval)\n",
    "print(\"d=\", best_d, \"e=\", best_e)\n",
    "# runs DBSCAN using the appropiate values of epsilon (best_e) and density (best_d)\n",
    "model, clusters = DBSCAN(training_set, get_distance, dim, 6, 20)\n",
    "\n",
    "# plot the clusterization and the Silhouette coefficient\n",
    "#DBSCAN_plot_2D_clusters(clusters)\n",
    "if len(clusters[0]) <= 0:\n",
    "    del clusters[0]\n",
    "\n",
    "DBSCAN_plot_silhouette_graph(training_set, clusters, dim, best_e)"
   ]
  },
  {
   "cell_type": "code",
   "execution_count": null,
   "id": "instrumental-royal",
   "metadata": {},
   "outputs": [],
   "source": [
    "# initialization of data set and auxiliary variables\n",
    "v_set = DBSCAN_initialization(test_set)\n",
    "neighbors_count = {key: 0 for key in range(0,len(test_set))}\n",
    "v_clusters = {key: [] for key in range(0,len(test_set))}\n",
    "\n",
    "# run through each point of the test set so as to classify them\n",
    "for v_point in v_set:\n",
    "    # get neighborhood of the current point as if it was placed in the model set\n",
    "    v_neighborhood = DBSCAN_find_neighborhood(model, get_distance, dim, best_e, v_point)\n",
    "    \n",
    "    # count the number of neighbors of each cluster\n",
    "    for q in v_neighborhood:\n",
    "        neighbors_count[q.cluster] += 1\n",
    "    \n",
    "    # set current point to the \"most frequent\" cluster in its \"model neighborhood\"\n",
    "    v_point.cluster = max(neighbors_count, key=neighbors_count.get)\n",
    "    \n",
    "    # reset the counter of neighbors of each cluster\n",
    "    neighbors_count = {key: 0 for key in neighbors_count}\n",
    "    \n",
    "# construct the dictionary with all clusters and plot the result\n",
    "for p in v_set:\n",
    "    v_clusters[p.cluster].append(p)\n",
    "    \n",
    "# delete unused clusters\n",
    "delete = [k for k,l in v_clusters.items() if len(l)==0]\n",
    "for d in delete:\n",
    "    del v_clusters[d]\n",
    "\n",
    "# plot the silhouette coeffcient grapph\n",
    "DBSCAN_plot_silhouette_graph(test_set, v_clusters, dim, best_e)\n",
    "    \n",
    "print(\"teset set, number of clusters: \", len(v_clusters))"
   ]
  },
  {
   "cell_type": "code",
   "execution_count": null,
   "id": "material-silver",
   "metadata": {},
   "outputs": [],
   "source": [
    "###############################\n",
    "# Training step               #\n",
    "###############################\n",
    "\n",
    "DBSCAN_plot_multiple_parameters(training_set, 4, 20, 5, get_distance, dim, False)\n",
    "\n",
    "###############################\n",
    "# Validation step             #\n",
    "###############################\n",
    "\n",
    "# first approach\n",
    "#print(\"\\n\\033[1mFisrt approach:\\033[0m run DBSCAN for the test set with the most convenient configuration obtained from the training step.\")\n",
    "model = []\n",
    "clusters_1 = {}\n",
    "testset_labeled, clusters_1 = DBSCAN(test_set, get_distance, 2, best_e, best_d)\n",
    "DBSCAN_plot_2D_clusters(clusters_1)\n",
    "del clusters_1[0]\n",
    "DBSCAN_plot_silhouette_graph(test_set, clusters_1, 2, best_e)"
   ]
  },
  {
   "cell_type": "code",
   "execution_count": null,
   "id": "hungarian-egyptian",
   "metadata": {},
   "outputs": [],
   "source": [
    "\n",
    "#DBSCAN_plot_multiple_parameters(training_set, 4, 20, 5, get_distance, 2, True)\n",
    "\n",
    "# Run DBSCAN over the dataset using different values of minimum density and distance\n",
    "def DBSCAN_plot_multiple_parameters(dataset, minDensity, maxDensity, step, func_dist, dim, plot=True):\n",
    "    for density in range(minDensity, maxDensity+1, step):\n",
    "        \n",
    "        print(color.BOLD)\n",
    "        print(\"-------------------------------------------------------------------------------------\")\n",
    "        print(\"Elbow graph with k = \", density)\n",
    "        print(color.END)\n",
    "        DBSCAN_plot_elbow_graph(dataset, func_dist, dim, density)\n",
    "        \n",
    "        for eps in range(density, 0, -1):\n",
    "            model = []\n",
    "            clusters = {}\n",
    "            model, clusters = DBSCAN(dataset, func_dist, dim, eps/density, density)\n",
    "            print(\"---------------------------------------------------------------------------------\")\n",
    "            print(\"\\033[1mConfiguration:\\033[0m minDensity = \", density, \", eps = \", eps/density)\n",
    "            print(\"There are\", len(clusters)-1, \"clusters and\", len(clusters[0]), \"outliers.\")\n",
    "            if len(clusters[0]) <= 0:\n",
    "                del clusters[0]\n",
    "            \n",
    "            if (plot): \n",
    "                DBSCAN_plot_2D_clusters(clusters)\n",
    "                \n",
    "            DBSCAN_plot_silhouette_graph(training_set, clusters, 2, eps/density)"
   ]
  }
 ],
 "metadata": {
  "kernelspec": {
   "display_name": "Python 3",
   "language": "python",
   "name": "python3"
  },
  "language_info": {
   "codemirror_mode": {
    "name": "ipython",
    "version": 3
   },
   "file_extension": ".py",
   "mimetype": "text/x-python",
   "name": "python",
   "nbconvert_exporter": "python",
   "pygments_lexer": "ipython3",
   "version": "3.8.5"
  }
 },
 "nbformat": 4,
 "nbformat_minor": 5
}
