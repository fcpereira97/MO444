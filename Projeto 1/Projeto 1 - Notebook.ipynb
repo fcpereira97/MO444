{
 "cells": [
  {
   "cell_type": "code",
   "execution_count": 102,
   "id": "understood-option",
   "metadata": {},
   "outputs": [],
   "source": [
    "#Modules import\n",
    "\n",
    "import numpy as np\n",
    "import math\n",
    "import random"
   ]
  },
  {
   "cell_type": "code",
   "execution_count": 103,
   "id": "parental-jesus",
   "metadata": {},
   "outputs": [],
   "source": [
    "#Global variables\n",
    "\n",
    "data_sets_proportions = [50,25,25]\n",
    "seed = 666\n",
    "random.seed(seed)"
   ]
  },
  {
   "cell_type": "code",
   "execution_count": 104,
   "id": "smoking-joshua",
   "metadata": {},
   "outputs": [],
   "source": [
    "#Class that represents an example data\n",
    "\n",
    "class Example:\n",
    "    def __init__(self, name, features):\n",
    "        self.name = name\n",
    "        self.features = features"
   ]
  },
  {
   "cell_type": "code",
   "execution_count": 105,
   "id": "finite-journal",
   "metadata": {},
   "outputs": [],
   "source": [
    "#Read input data\n",
    "\n",
    "data_set = []\n",
    "data_set_file = open(\"cluster.dat\",\"r\")\n",
    "data_set_file_lines = data_set_file.readlines()\n",
    "\n",
    "for i in range(len(data_set_file_lines)):\n",
    "    data_set_file_lines[i] = data_set_file_lines[i].split()\n",
    "    map_features_to_float = map(float, data_set_file_lines[i])\n",
    "    features = list(map_features_to_float)\n",
    "    new_example = Example(\"Example #\" + str(i+1), features)\n",
    "    data_set.append(new_example)\n",
    "\n",
    "#for example in data_set:\n",
    "#    print(example.name)\n",
    "#    print(example.features)\n",
    "#    print(\"\\n\")"
   ]
  },
  {
   "cell_type": "code",
   "execution_count": 106,
   "id": "instant-nursing",
   "metadata": {},
   "outputs": [],
   "source": [
    "#Configure training, validation and test sets\n",
    "\n",
    "training_set_size = math.floor(data_sets_proportions[0]*data_set_size)\n",
    "validation_set_size = math.floor(data_sets_proportions[1]*data_set_size)\n",
    "test_set_size = math.floor(data_sets_proportions[2]*data_set_size)\n",
    "\n",
    "training_set_size += data_set_size - training_set_size - validation_set_size - test_set_size\n",
    "\n",
    "random.shuffle(data_set)\n",
    "\n",
    "training_set = []\n",
    "validation_set = []\n",
    "test_set = []\n",
    "\n",
    "for i in range(len(data_set)):\n",
    "    if i < training_set_size:\n",
    "        training_set.append(data_set[i])\n",
    "    elif i < validation_set_size:\n",
    "        validation_set.append(data_set[i])\n",
    "    elif i < test_set_size:\n",
    "        test_set.append(data_set[i])"
   ]
  },
  {
   "cell_type": "code",
   "execution_count": null,
   "id": "plain-edinburgh",
   "metadata": {},
   "outputs": [],
   "source": []
  }
 ],
 "metadata": {
  "kernelspec": {
   "display_name": "Python 3",
   "language": "python",
   "name": "python3"
  },
  "language_info": {
   "codemirror_mode": {
    "name": "ipython",
    "version": 3
   },
   "file_extension": ".py",
   "mimetype": "text/x-python",
   "name": "python",
   "nbconvert_exporter": "python",
   "pygments_lexer": "ipython3",
   "version": "3.9.1"
  }
 },
 "nbformat": 4,
 "nbformat_minor": 5
}
